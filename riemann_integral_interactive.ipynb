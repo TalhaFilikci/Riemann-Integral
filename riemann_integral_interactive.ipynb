{
 "cells": [
  {
   "cell_type": "code",
   "execution_count": 30,
   "id": "53a61544",
   "metadata": {},
   "outputs": [
    {
     "data": {
      "application/vnd.jupyter.widget-view+json": {
       "model_id": "05936e37575c4072898203628100e0c5",
       "version_major": 2,
       "version_minor": 0
      },
      "text/plain": [
       "interactive(children=(IntSlider(value=23, description='N', max=40, min=6), Output()), _dom_classes=('widget-in…"
      ]
     },
     "metadata": {},
     "output_type": "display_data"
    },
    {
     "data": {
      "text/plain": [
       "<function __main__.active(N)>"
      ]
     },
     "execution_count": 30,
     "metadata": {},
     "output_type": "execute_result"
    }
   ],
   "source": [
    "#importieren der notwendigen Bibliotheken\n",
    "%matplotlib notebook\n",
    "import ipywidgets\n",
    "import numpy as np\n",
    "import matplotlib.pyplot as plt\n",
    "from scipy.integrate import quad\n",
    "\n",
    "#die zu approx. Funktion\n",
    "def function(x):\n",
    "    return -0.05*x**2 +3\n",
    "\n",
    "#Integralgrenzen (können beliebig angepasst werden)\n",
    "a = 2\n",
    "b = 9\n",
    "#exakte Berechnung vom Integral\n",
    "I = quad(function, a,b)\n",
    "\n",
    "#Fkt. zur Anpassung der Rechtecke\n",
    "def active(N):\n",
    "    x = np.linspace(a,b, N+1)\n",
    "    y = function(x)\n",
    "    X = np.linspace(a,b, N**2+1)\n",
    "    Y= function(X)\n",
    "    #Breite der Rechtecke\n",
    "    dx = (b-a)/N\n",
    "    plt.figure(figsize=(12,6))\n",
    "\n",
    "  \n",
    "    ###left-hand Riemann appr.\n",
    "    plt.subplot(1,3,1)\n",
    "    plt.plot(X, Y, 'y', label= \"$-0.05x**2 + 3$\")\n",
    "    plt.legend(loc='upper right')\n",
    "    \n",
    "    x_left = x[:-1]\n",
    "    y_left = y[:-1]\n",
    "    plt.plot(x_left, y_left, 'm.', markersize=10)\n",
    "    plt.bar(x_left, y_left, width = dx, alpha=0.3, align = 'edge', edgecolor='m')\n",
    "    \n",
    "    #appr. durch Addition der Rechteckflächen\n",
    "    x_rect_left = np.linspace(a,b-dx, N)    \n",
    "    sum_left = np.sum(function(x_rect_left)*dx)\n",
    "    plt.title('left-hand appr. Rechtecke: {} \\n berechnet. Wert: {}\\n exakt. Wert: {} \\\n",
    "    \\n Fehler: {}'.format(N, round(sum_left,3),round(I[0],3), round(np.abs(sum_left-I)[0],3)))\n",
    "    \n",
    "    ###midpoint Riemann appr.\n",
    "    plt.subplot(1,3,2)\n",
    "    plt.plot(X,Y, 'y', label= \"$-0.05x**2 + 3$\")\n",
    "    plt.legend(loc='upper right')\n",
    "    \n",
    "    x_mid = (x[:-1]+x[1:])/2\n",
    "    y_mid =function(x_mid)\n",
    "    plt.plot(x_mid, y_mid, 'm.', markersize=10)\n",
    "    plt.bar(x_mid, y_mid, width=dx, alpha=0.3, align = 'edge', edgecolor='m')\n",
    "    \n",
    "    #appr. durch Addition der Rechteckflächen\n",
    "    x_rect_mid = np.linspace(dx/2, b-dx/2, N)    \n",
    "    sum_mid = np.sum(function(x_rect_mid)*dx)\n",
    "\n",
    "    plt.title('midpoint appr. Rechtecke: {} \\n berechnet. Wert: {}\\n exakt. Wert: {} \\\n",
    "    \\n Fehler: {}'.format(N, round(sum_mid,3),round(I[0],3), round(np.abs(sum_mid-I)[0],3)))\n",
    "\n",
    "\n",
    "\n",
    "\n",
    "    ###right-hand Riemann appr.\n",
    "    plt.subplot(1,3,3)\n",
    "    plt.plot(X, Y, 'y', label= \"$-0.05x**2 + 3$\")\n",
    "    plt.legend(loc='upper right')\n",
    "    \n",
    "    x_right = x[1:]\n",
    "    y_right = y[1:]\n",
    "    plt.plot(x_right, y_right, 'm.', markersize=10)\n",
    "    plt.bar(x_right, y_right, width = dx, alpha=0.3, align = 'edge', edgecolor='m')\n",
    "    \n",
    "    #appr. durch Addition der Rechteckflächen\n",
    "    x_rect_right = np.linspace(dx,b,N)    \n",
    "    sum_right = np.sum(function(x_rect_right)*dx)\n",
    "    plt.title('right-hand appr. Rechtecke: {} \\n berechnet. Wert: {}\\n exakt. Wert: {} \\\n",
    "    \\n Fehler: {}'.format(N,round(sum_right,3),round(I[0],3), round(np.abs(sum_right-I)[0],3)))\n",
    "\n",
    "\n",
    "    plt.show()\n",
    "\n",
    "ipywidgets.interact(active, N=(6,40,1))\n",
    "   \n"
   ]
  },
  {
   "cell_type": "code",
   "execution_count": null,
   "id": "26ed394e",
   "metadata": {},
   "outputs": [],
   "source": []
  }
 ],
 "metadata": {
  "kernelspec": {
   "display_name": "Python 3 (ipykernel)",
   "language": "python",
   "name": "python3"
  },
  "language_info": {
   "codemirror_mode": {
    "name": "ipython",
    "version": 3
   },
   "file_extension": ".py",
   "mimetype": "text/x-python",
   "name": "python",
   "nbconvert_exporter": "python",
   "pygments_lexer": "ipython3",
   "version": "3.11.3"
  }
 },
 "nbformat": 4,
 "nbformat_minor": 5
}
